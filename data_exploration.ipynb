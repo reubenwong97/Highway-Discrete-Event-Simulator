{
 "cells": [
  {
   "cell_type": "code",
   "execution_count": 1,
   "metadata": {},
   "outputs": [],
   "source": [
    "import pandas as pd\n",
    "import os\n",
    "import matplotlib.pyplot as plt\n",
    "import seaborn as sns\n",
    "import numpy as np\n",
    "from scipy.stats import chi2, chi2_contingency\n",
    "from scipy import stats"
   ]
  },
  {
   "cell_type": "code",
   "execution_count": 2,
   "metadata": {},
   "outputs": [
    {
     "data": {
      "text/plain": [
       "'0.11.0'"
      ]
     },
     "execution_count": 2,
     "metadata": {},
     "output_type": "execute_result"
    }
   ],
   "source": [
    "sns.__version__"
   ]
  },
  {
   "cell_type": "code",
   "execution_count": 3,
   "metadata": {},
   "outputs": [],
   "source": [
    "data_path = os.path.join(os.getcwd(), 'data', 'PCS_TEST_DETERMINSTIC.xls')\n",
    "df = pd.read_excel(data_path, sheet_name=\"Sheet1\")"
   ]
  },
  {
   "cell_type": "code",
   "execution_count": 4,
   "metadata": {
    "scrolled": false
   },
   "outputs": [
    {
     "data": {
      "text/html": [
       "<div>\n",
       "<style scoped>\n",
       "    .dataframe tbody tr th:only-of-type {\n",
       "        vertical-align: middle;\n",
       "    }\n",
       "\n",
       "    .dataframe tbody tr th {\n",
       "        vertical-align: top;\n",
       "    }\n",
       "\n",
       "    .dataframe thead th {\n",
       "        text-align: right;\n",
       "    }\n",
       "</style>\n",
       "<table border=\"1\" class=\"dataframe\">\n",
       "  <thead>\n",
       "    <tr style=\"text-align: right;\">\n",
       "      <th></th>\n",
       "      <th>Arrival no</th>\n",
       "      <th>Arrival time (sec)</th>\n",
       "      <th>Base station</th>\n",
       "      <th>Call duration (sec)</th>\n",
       "      <th>velocity (km/h)</th>\n",
       "      <th>Inter-arrival (sec)</th>\n",
       "      <th>velocity (km/s)</th>\n",
       "    </tr>\n",
       "  </thead>\n",
       "  <tbody>\n",
       "    <tr>\n",
       "      <th>0</th>\n",
       "      <td>1</td>\n",
       "      <td>0.000000</td>\n",
       "      <td>18</td>\n",
       "      <td>76.133611</td>\n",
       "      <td>125.934254</td>\n",
       "      <td>0.067744</td>\n",
       "      <td>0.034982</td>\n",
       "    </tr>\n",
       "    <tr>\n",
       "      <th>1</th>\n",
       "      <td>2</td>\n",
       "      <td>0.067744</td>\n",
       "      <td>7</td>\n",
       "      <td>159.056244</td>\n",
       "      <td>95.510881</td>\n",
       "      <td>0.491441</td>\n",
       "      <td>0.026531</td>\n",
       "    </tr>\n",
       "    <tr>\n",
       "      <th>2</th>\n",
       "      <td>3</td>\n",
       "      <td>0.559184</td>\n",
       "      <td>6</td>\n",
       "      <td>179.465053</td>\n",
       "      <td>127.757456</td>\n",
       "      <td>0.066135</td>\n",
       "      <td>0.035488</td>\n",
       "    </tr>\n",
       "    <tr>\n",
       "      <th>3</th>\n",
       "      <td>4</td>\n",
       "      <td>0.625319</td>\n",
       "      <td>14</td>\n",
       "      <td>163.108320</td>\n",
       "      <td>134.310552</td>\n",
       "      <td>0.719747</td>\n",
       "      <td>0.037308</td>\n",
       "    </tr>\n",
       "    <tr>\n",
       "      <th>4</th>\n",
       "      <td>5</td>\n",
       "      <td>1.345066</td>\n",
       "      <td>2</td>\n",
       "      <td>95.054472</td>\n",
       "      <td>112.272359</td>\n",
       "      <td>0.242954</td>\n",
       "      <td>0.031187</td>\n",
       "    </tr>\n",
       "  </tbody>\n",
       "</table>\n",
       "</div>"
      ],
      "text/plain": [
       "   Arrival no  Arrival time (sec)  Base station   Call duration (sec)  \\\n",
       "0           1            0.000000             18            76.133611   \n",
       "1           2            0.067744              7           159.056244   \n",
       "2           3            0.559184              6           179.465053   \n",
       "3           4            0.625319             14           163.108320   \n",
       "4           5            1.345066              2            95.054472   \n",
       "\n",
       "   velocity (km/h)  Inter-arrival (sec)  velocity (km/s)  \n",
       "0       125.934254             0.067744         0.034982  \n",
       "1        95.510881             0.491441         0.026531  \n",
       "2       127.757456             0.066135         0.035488  \n",
       "3       134.310552             0.719747         0.037308  \n",
       "4       112.272359             0.242954         0.031187  "
      ]
     },
     "execution_count": 4,
     "metadata": {},
     "output_type": "execute_result"
    }
   ],
   "source": [
    "df.head()"
   ]
  },
  {
   "cell_type": "markdown",
   "metadata": {},
   "source": [
    "## Statistical Tests for Hypothetical Distributions\n",
    "Due to ease of use, we will be using the KS test as opposed to the ChiSquare test.\n",
    "However, it should be noted that the KS test in general, makes use of the cummulative distribution function (CDF), to gauge the distance between 2 distributions, i.e. our empirical distribution and theoretical distribution.\n",
    "### Distinction\n",
    "In the lectures, we applied a specialised case of the KS test. We first stated that exponentially distributed interarrival times will have uniformly distributed arrival times. The KS test then computed the \"distance\" between the CDF of our data and the uniform distribution that would be theoretically obtained. \n",
    "\n",
    "When using `scipy.stats.kstest`, we instead directly compute the \"distance\" between our empirical distribution and our distribution of choice directly."
   ]
  },
  {
   "cell_type": "code",
   "execution_count": 7,
   "metadata": {
    "scrolled": true
   },
   "outputs": [],
   "source": [
    "df[\"Inter-arrival (sec)\"][:-1].describe()\n",
    "# MLE beta=1.369817\n",
    "beta = 1.369817"
   ]
  },
  {
   "cell_type": "code",
   "execution_count": 8,
   "metadata": {},
   "outputs": [
    {
     "data": {
      "text/plain": [
       "KstestResult(statistic=0.010023150692294924, pvalue=0.2658106043225813)"
      ]
     },
     "execution_count": 8,
     "metadata": {},
     "output_type": "execute_result"
    }
   ],
   "source": [
    "def expcdf(x, beta=1.0):\n",
    "    return 1.0 - np.exp(-x/beta)\n",
    "# dist = stats.expon\n",
    "# args = dist.fit(df[\"Inter-arrival (sec)\"][:-1])\n",
    "# args\n",
    "# np.isnan(df[\"Inter-arrival (sec)\"][:-1])\n",
    "stats.kstest(df[\"Inter-arrival (sec)\"][:-1], expcdf, (beta,))"
   ]
  },
  {
   "cell_type": "code",
   "execution_count": 10,
   "metadata": {},
   "outputs": [
    {
     "name": "stdout",
     "output_type": "stream",
     "text": [
      "(2.5090155759244226e-05, 1.3697918363207653)\n"
     ]
    },
    {
     "data": {
      "text/plain": [
       "KstestResult(statistic=0.010015330445135917, pvalue=0.26664034156645433)"
      ]
     },
     "execution_count": 10,
     "metadata": {},
     "output_type": "execute_result"
    }
   ],
   "source": [
    "dist = stats.expon\n",
    "args = dist.fit(df[\"Inter-arrival (sec)\"][:-1])\n",
    "print(args)\n",
    "# np.isnan(df[\"Inter-arrival (sec)\"][:-1])\n",
    "stats.kstest(df[\"Inter-arrival (sec)\"][:-1], dist.cdf, args)"
   ]
  },
  {
   "cell_type": "code",
   "execution_count": 11,
   "metadata": {},
   "outputs": [
    {
     "data": {
      "image/png": "[encoded data removed]",
      "text/plain": [
       "<Figure size 432x288 with 1 Axes>"
      ]
     },
     "metadata": {
      "needs_background": "light"
     },
     "output_type": "display_data"
    }
   ],
   "source": [
    "fig, ax = plt.subplots()\n",
    "sns.histplot(data=df, x=\"Inter-arrival (sec)\", ax=ax, stat='density')\n",
    "\n",
    "# overlay exponential function\n",
    "x = np.linspace(0, 12, 1000)\n",
    "y = (1/beta) * np.exp(-x/beta)\n",
    "sns.lineplot(x=x, y=y, ax=ax, color='red')\n",
    "\n",
    "plt.title('Data Distribution of Inter-arrivals(s) with Exponential Distribution Overlay')\n",
    "fig.savefig('./images/interarrival.png')"
   ]
  },
  {
   "cell_type": "code",
   "execution_count": 12,
   "metadata": {},
   "outputs": [],
   "source": [
    "df[\"velocity (km/s)\"].describe()\n",
    "mu = 0.033353\n",
    "std = 0.002505 # this is sample std already\n",
    "min = 0.024006\n",
    "max = 0.042084"
   ]
  },
  {
   "cell_type": "code",
   "execution_count": 13,
   "metadata": {},
   "outputs": [
    {
     "data": {
      "text/plain": [
       "KstestResult(statistic=0.006439789372512217, pvalue=0.7987384412525099)"
      ]
     },
     "execution_count": 13,
     "metadata": {},
     "output_type": "execute_result"
    }
   ],
   "source": [
    "# this is ok because it gives us the mu and std we want anyway\n",
    "dist = stats.norm\n",
    "args = dist.fit(df[\"velocity (km/s)\"])\n",
    "args\n",
    "stats.kstest(df[\"velocity (km/s)\"], dist.cdf, args)"
   ]
  },
  {
   "cell_type": "code",
   "execution_count": 14,
   "metadata": {},
   "outputs": [
    {
     "data": {
      "image/png": "[encoded data removed]",
      "text/plain": [
       "<Figure size 432x288 with 1 Axes>"
      ]
     },
     "metadata": {
      "needs_background": "light"
     },
     "output_type": "display_data"
    }
   ],
   "source": [
    "fig, ax = plt.subplots()\n",
    "sns.histplot(data=df, x=\"velocity (km/s)\", ax=ax, stat='density')\n",
    "\n",
    "# overlay exponential function\n",
    "x = np.linspace(min, max, 1000)\n",
    "y = 1/(std*np.sqrt(2*np.pi)) * np.exp(-0.5 * ((x-mu)/std) ** 2)\n",
    "sns.lineplot(x=x, y=y, ax=ax, color='red')\n",
    "\n",
    "plt.title(\"Data Distribution of Velocity(km/s) with Normal Distribution Overlay\")\n",
    "fig.savefig('./images/velocity.png')"
   ]
  },
  {
   "cell_type": "code",
   "execution_count": 8,
   "metadata": {},
   "outputs": [],
   "source": [
    "df[\"Call duration (sec)\"].describe()\n",
    "beta = 109.835901"
   ]
  },
  {
   "cell_type": "code",
   "execution_count": 10,
   "metadata": {},
   "outputs": [
    {
     "name": "stdout",
     "output_type": "stream",
     "text": [
      "KstestResult(statistic=0.005854123916584519, pvalue=0.8809285916372338)\n",
      "(10.003951603252272, 99.83194913549542)\n"
     ]
    }
   ],
   "source": [
    "dist = stats.expon\n",
    "args = dist.fit(df[\"Call duration (sec)\"])\n",
    "args\n",
    "print(stats.kstest(df[\"Call duration (sec)\"], dist.cdf, args))\n",
    "# stats.kstest(df[\"Call duration (sec)\"], expcdf, (beta,))\n",
    "# print(args[1])\n",
    "print(args)"
   ]
  },
  {
   "cell_type": "code",
   "execution_count": 23,
   "metadata": {},
   "outputs": [
    {
     "data": {
      "image/png": "[encoded data removed]",
      "text/plain": [
       "<Figure size 432x288 with 1 Axes>"
      ]
     },
     "metadata": {
      "needs_background": "light"
     },
     "output_type": "display_data"
    }
   ],
   "source": [
    "fig, ax = plt.subplots()\n",
    "dist.rvs(loc=args[0], scale=args[1])\n",
    "# sns.lineplot(x=dist.rvs(loc=args[0], scale=args[1], size=1000))\n",
    "# plt.plot(dist.rvs(loc=args[0], scale=args[1], size=1000))\n",
    "sns.histplot(data=dist.rvs(loc=args[0], scale=args[1], size=10000), ax=ax, stat='density', cumulative=False)\n",
    "plt.title(\"Example showing SciPy's fit\")\n",
    "fig.savefig('./images/scipy_expon_example.png')"
   ]
  },
  {
   "cell_type": "code",
   "execution_count": 21,
   "metadata": {},
   "outputs": [
    {
     "data": {
      "image/png": "[encoded data removed]",
      "text/plain": [
       "<Figure size 432x288 with 1 Axes>"
      ]
     },
     "metadata": {
      "needs_background": "light"
     },
     "output_type": "display_data"
    }
   ],
   "source": [
    "def random_duration(beta=109.835901):\n",
    "    u = np.random.uniform()\n",
    "    return -beta * np.log(1 - u)\n",
    "fig, ax = plt.subplots()\n",
    "data = [random_duration() for x in range(10000)]\n",
    "sns.histplot(data=data, ax=ax, stat='density', cumulative=False)\n",
    "\n",
    "plt.title('Example showing no shift of distribution')\n",
    "fig.savefig('./images/manual_fit.png')"
   ]
  },
  {
   "cell_type": "code",
   "execution_count": 22,
   "metadata": {},
   "outputs": [
    {
     "data": {
      "text/plain": [
       "KstestResult(statistic=0.08722013653673563, pvalue=1.2257712860415087e-66)"
      ]
     },
     "execution_count": 22,
     "metadata": {},
     "output_type": "execute_result"
    }
   ],
   "source": [
    "stats.kstest(df[\"Call duration (sec)\"], expcdf, (beta,))"
   ]
  },
  {
   "cell_type": "code",
   "execution_count": 28,
   "metadata": {},
   "outputs": [
    {
     "data": {
      "image/png": "[encoded data removed]",
      "text/plain": [
       "<Figure size 432x288 with 1 Axes>"
      ]
     },
     "metadata": {
      "needs_background": "light"
     },
     "output_type": "display_data"
    }
   ],
   "source": [
    "fig, ax = plt.subplots()\n",
    "\n",
    "# overlay exponential function\n",
    "x = np.linspace(12, 1240, 1000)\n",
    "# y = (1/beta) * np.exp(-x/beta)\n",
    "y = dist.pdf(x, loc=args[0], scale=args[1])\n",
    "sns.lineplot(x=x, y=y, ax=ax, color='red')\n",
    "# sns.lineplot(x=x, y=y2, ax=ax, color='green')\n",
    "\n",
    "sns.histplot(data=df, x=\"Call duration (sec)\", ax=ax, stat='density', cumulative=False)\n",
    "\n",
    "plt.title('Data Distribution of Call Duration(sec) with Exponential Distribution Overlay')\n",
    "fig.savefig('./images/callduration')"
   ]
  },
  {
   "cell_type": "code",
   "execution_count": 65,
   "metadata": {},
   "outputs": [
    {
     "data": {
      "text/plain": [
       "count    10000.00000\n",
       "mean        10.54220\n",
       "std          5.78662\n",
       "min          1.00000\n",
       "25%          6.00000\n",
       "50%         11.00000\n",
       "75%         16.00000\n",
       "max         20.00000\n",
       "Name: Base station , dtype: float64"
      ]
     },
     "execution_count": 65,
     "metadata": {},
     "output_type": "execute_result"
    }
   ],
   "source": [
    "df[\"Base station \"].describe()"
   ]
  },
  {
   "cell_type": "code",
   "execution_count": 57,
   "metadata": {},
   "outputs": [
    {
     "data": {
      "image/png": "[encoded data removed]",
      "text/plain": [
       "<Figure size 432x288 with 1 Axes>"
      ]
     },
     "metadata": {
      "needs_background": "light"
     },
     "output_type": "display_data"
    }
   ],
   "source": [
    "fig, ax = plt.subplots()\n",
    "\n",
    "g = sns.histplot(data=df, x=\"Base station \", ax=ax, bins=20, discrete=True)\n",
    "ax.axhline(1/20*10000, ls='-', color=\"red\")\n",
    "\n",
    "g.set_xticks(range(1, 21)) # <--- set the ticks first\n",
    "g.set_xticklabels([str(i+1) for i in range(20)])\n",
    "\n",
    "g.set_title('Base Station Distributions')\n",
    "fig.savefig('./images/station_distributions.png')"
   ]
  },
  {
   "cell_type": "code",
   "execution_count": 43,
   "metadata": {},
   "outputs": [],
   "source": [
    "f_exp = [1/20 * 10000 for x in range(20)]\n",
    "f_obs = list(df[\"Base station \"].value_counts().sort_index())"
   ]
  },
  {
   "cell_type": "code",
   "execution_count": 56,
   "metadata": {},
   "outputs": [
    {
     "data": {
      "text/plain": [
       "Power_divergenceResult(statistic=25.656000000000002, pvalue=0.14006290765463547)"
      ]
     },
     "execution_count": 56,
     "metadata": {},
     "output_type": "execute_result"
    }
   ],
   "source": [
    "stats.chisquare(f_obs, f_exp, ddof=0)"
   ]
  },
  {
   "cell_type": "code",
   "execution_count": null,
   "metadata": {},
   "outputs": [],
   "source": []
  }
 ],
 "metadata": {
  "kernelspec": {
   "display_name": "Python 3",
   "language": "python",
   "name": "python3"
  },
  "language_info": {
   "codemirror_mode": {
    "name": "ipython",
    "version": 3
   },
   "file_extension": ".py",
   "mimetype": "text/x-python",
   "name": "python",
   "nbconvert_exporter": "python",
   "pygments_lexer": "ipython3",
   "version": "3.7.7"
  }
 },
 "nbformat": 4,
 "nbformat_minor": 4
}
